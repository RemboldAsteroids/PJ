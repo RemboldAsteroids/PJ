{
 "cells": [
  {
   "cell_type": "code",
   "execution_count": 1,
   "metadata": {
    "collapsed": true
   },
   "outputs": [],
   "source": [
    "# Import necissary packages|\n",
    "\n",
    "import pandas as pd\n",
    "import numpy as np\n",
    "import matplotlib.pyplot as plt\n",
    "import os\n",
    "import cv2\n",
    "import time\n",
    "import datetime\n",
    "from matplotlib import cm\n",
    "from pytz import timezone"
   ]
  },
  {
   "cell_type": "code",
   "execution_count": 2,
   "metadata": {
    "collapsed": true
   },
   "outputs": [],
   "source": [
    "# Specify path to videos and to all usefull files.  I have them all in one folder\n",
    "\n",
    "vidpath = '/home/pj/UsbStick/Video/'\n",
    "mypath = '/home/pj/Documents/Thesis/'\n",
    "\n",
    "##################################################\n",
    "\n",
    "star_catalog = pd.read_csv(mypath + 'Starz_and_vid_catalog.csv',\n",
    "                           delimiter=' ', index_col= 0)\n",
    "\n",
    "cloud_catalog = np.loadtxt(mypath + 'cloud_days.txt', dtype='str')\n",
    "\n",
    "\n",
    "startendz = np.array(pd.read_csv(mypath +'start_end_observations.csv'))\n",
    "\n",
    "\n",
    "star_ratios = np.loadtxt(mypath +'loc_and_ratios.txt')\n",
    "\n",
    "\n",
    "analyzed_vids = pd.read_csv(mypath + 'all_videos_viewed.csv',index_col=0)\n",
    "\n",
    "\n",
    "star_comparisons = pd.read_csv(mypath+ 'star_comparisons.csv', index_col=0)\n",
    "\n",
    "######################################################\n",
    "\n"
   ]
  },
  {
   "cell_type": "markdown",
   "metadata": {},
   "source": [
    "# Time Facts"
   ]
  },
  {
   "cell_type": "code",
   "execution_count": 3,
   "metadata": {
    "collapsed": true
   },
   "outputs": [],
   "source": [
    "fullnights = startendz[startendz[:,2]>(60*60)]\n",
    "\n",
    "\n",
    "number_of_nights = len(fullnights)\n",
    "total_observing_hours = sum(fullnights[:,2])/60/60\n",
    "avg_hours_per_night = np.average(fullnights[:,2].astype(float))/60/60\n",
    "min_hours_obs = np.min(fullnights[:,2].astype(float))/60/60\n",
    "max_hours_obs = np.max(fullnights[:,2].astype(float))/60/60"
   ]
  },
  {
   "cell_type": "markdown",
   "metadata": {},
   "source": [
    "# Star Catalog/Area Facts"
   ]
  },
  {
   "cell_type": "code",
   "execution_count": 4,
   "metadata": {
    "collapsed": true
   },
   "outputs": [],
   "source": [
    "# Find center of data\n",
    "midpoint = (720/2,480/2)\n",
    "\n",
    "# Loop of angles to rotate through\n",
    "rads = np.arange(0,2*np.pi,np.deg2rad(5))\n",
    "\n",
    "empty = []\n",
    "\n",
    "for i in np.arange(0,len(rads)):\n",
    "    # rotate original by ang radians\n",
    "    ang = rads[i]\n",
    "    \n",
    "    # Make everything centered at (0,0)\n",
    "    xs = star_ratios[:,1]-midpoint[0]\n",
    "    ys = star_ratios[:,2]- midpoint[1]\n",
    "    \n",
    "    # Rotation matrix!\n",
    "    rota = [[np.cos(ang), -np.sin(ang)],[np.sin(ang),np.cos(ang)]]\n",
    "    mul = np.matmul(rota,[xs,ys])\n",
    "    trans = np.transpose(mul)\n",
    "    \n",
    "    # Move things back to way they were\n",
    "    xs2 = trans[:,0]+midpoint[0]\n",
    "    ys2 = trans[:,1]+midpoint[1]\n",
    "    \n",
    "    # Append to array\n",
    "    rotated_group = np.column_stack((star_ratios[:,0],xs2,ys2))\n",
    "    if i == 0:\n",
    "        all_rotated_copies = rotated_group\n",
    "    else:\n",
    "        all_rotated_copies = np.vstack((all_rotated_copies,rotated_group))\n",
    "        \n",
    "        \n",
    "# Find rotated copies that fall in our field of view\n",
    "\n",
    "condxs = (all_rotated_copies[:,1]>0)&(all_rotated_copies[:,1]<720)\n",
    "condys = (all_rotated_copies[:,2]>0)&(all_rotated_copies[:,2]<480)\n",
    "cond_pos = condxs&condys\n",
    "\n",
    "rotated_copies_fit = all_rotated_copies[cond_pos]"
   ]
  },
  {
   "cell_type": "code",
   "execution_count": 26,
   "metadata": {
    "collapsed": true
   },
   "outputs": [],
   "source": [
    "dircontents = np.array(os.listdir(vidpath))\n",
    "\n",
    "# Look at specific directory and scan it for png images\n",
    "condpics = [(file[-4:] == '.png') for file in dircontents]\n",
    "condvids = [(file[-4:] == '.avi') for file in dircontents]\n",
    "onlypics = dircontents[condpics]\n",
    "onlyvids = dircontents[condvids]\n",
    "\n"
   ]
  },
  {
   "cell_type": "code",
   "execution_count": 5,
   "metadata": {
    "collapsed": true
   },
   "outputs": [],
   "source": [
    "onlypics = np.arange(0,561)\n",
    "onlyvids = np.arange(0,1077)"
   ]
  },
  {
   "cell_type": "code",
   "execution_count": null,
   "metadata": {
    "collapsed": true
   },
   "outputs": [],
   "source": []
  },
  {
   "cell_type": "code",
   "execution_count": 69,
   "metadata": {
    "collapsed": true
   },
   "outputs": [],
   "source": [
    "total_comparisons = len(star_comparisons)\n",
    "number_ratio_points = len(star_ratios)\n",
    "number_after_rot = len(rotated_copies_fit)\n",
    "star_catalog_rows = len(star_catalog)\n",
    "vids_with_object = len(np.unique(np.array(star_catalog['Vid_name'])))\n",
    "stars_per_snapshot = star_catalog_rows/vids_with_object\n",
    "number_pics = len(onlypics)\n",
    "number_vids = len(onlyvids)\n",
    "number_fireballs = len(analyzed_vids.loc[analyzed_vids['Real_flag']==1.0])\n",
    "unique_objects = len(np.unique(np.array(star_catalog['Object'])))\n",
    "dimmest_object_mag = min(star_catalog['Vmag'])\n",
    "star_catalog_filenames = np.array(star_catalog['Vid_name'])\n",
    "unique_starfiles = len(np.unique(star_catalog_filenames))\n",
    "\n",
    "total_observation_area = max(cloud_catalog[:,1].astype(float))\n",
    "average_observation_area = np.average(cloud_catalog[:,1].astype(float))\n",
    "\n",
    "flux = number_fireballs / average_observation_area / total_observing_hours"
   ]
  },
  {
   "cell_type": "markdown",
   "metadata": {},
   "source": [
    "# Dataframes"
   ]
  },
  {
   "cell_type": "code",
   "execution_count": 70,
   "metadata": {},
   "outputs": [
    {
     "data": {
      "text/html": [
       "<style  type=\"text/css\" >\n",
       "    #T_471bec6e_6d1c_11e9_9ef9_a0afbd858fbdrow0_col0 {\n",
       "            background-color:  black;\n",
       "            color:  white;\n",
       "            border-color:  white;\n",
       "        }    #T_471bec6e_6d1c_11e9_9ef9_a0afbd858fbdrow1_col0 {\n",
       "            background-color:  black;\n",
       "            color:  white;\n",
       "            border-color:  white;\n",
       "        }    #T_471bec6e_6d1c_11e9_9ef9_a0afbd858fbdrow2_col0 {\n",
       "            background-color:  black;\n",
       "            color:  white;\n",
       "            border-color:  white;\n",
       "        }    #T_471bec6e_6d1c_11e9_9ef9_a0afbd858fbdrow3_col0 {\n",
       "            background-color:  black;\n",
       "            color:  white;\n",
       "            border-color:  white;\n",
       "        }    #T_471bec6e_6d1c_11e9_9ef9_a0afbd858fbdrow4_col0 {\n",
       "            background-color:  black;\n",
       "            color:  white;\n",
       "            border-color:  white;\n",
       "        }</style><table id=\"T_471bec6e_6d1c_11e9_9ef9_a0afbd858fbd\" ><thead>    <tr>        <th class=\"blank level0\" ></th>        <th class=\"col_heading level0 col0\" >Value</th>    </tr></thead><tbody>\n",
       "                <tr>\n",
       "                        <th id=\"T_471bec6e_6d1c_11e9_9ef9_a0afbd858fbdlevel0_row0\" class=\"row_heading level0 row0\" >Total Number of Nights</th>\n",
       "                        <td id=\"T_471bec6e_6d1c_11e9_9ef9_a0afbd858fbdrow0_col0\" class=\"data row0 col0\" >34</td>\n",
       "            </tr>\n",
       "            <tr>\n",
       "                        <th id=\"T_471bec6e_6d1c_11e9_9ef9_a0afbd858fbdlevel0_row1\" class=\"row_heading level0 row1\" >Total Observing Hours</th>\n",
       "                        <td id=\"T_471bec6e_6d1c_11e9_9ef9_a0afbd858fbdrow1_col0\" class=\"data row1 col0\" >291.874</td>\n",
       "            </tr>\n",
       "            <tr>\n",
       "                        <th id=\"T_471bec6e_6d1c_11e9_9ef9_a0afbd858fbdlevel0_row2\" class=\"row_heading level0 row2\" >Average Hours per Night</th>\n",
       "                        <td id=\"T_471bec6e_6d1c_11e9_9ef9_a0afbd858fbdrow2_col0\" class=\"data row2 col0\" >8.58453</td>\n",
       "            </tr>\n",
       "            <tr>\n",
       "                        <th id=\"T_471bec6e_6d1c_11e9_9ef9_a0afbd858fbdlevel0_row3\" class=\"row_heading level0 row3\" >Minimum Hours</th>\n",
       "                        <td id=\"T_471bec6e_6d1c_11e9_9ef9_a0afbd858fbdrow3_col0\" class=\"data row3 col0\" >6.99917</td>\n",
       "            </tr>\n",
       "            <tr>\n",
       "                        <th id=\"T_471bec6e_6d1c_11e9_9ef9_a0afbd858fbdlevel0_row4\" class=\"row_heading level0 row4\" >Maximum Hours</th>\n",
       "                        <td id=\"T_471bec6e_6d1c_11e9_9ef9_a0afbd858fbdrow4_col0\" class=\"data row4 col0\" >11</td>\n",
       "            </tr>\n",
       "    </tbody></table>"
      ],
      "text/plain": [
       "<pandas.io.formats.style.Styler at 0x7ffb584faa58>"
      ]
     },
     "execution_count": 70,
     "metadata": {},
     "output_type": "execute_result"
    }
   ],
   "source": [
    "#########################################\n",
    "# Time\n",
    "#########################################\n",
    "\n",
    "time_array = np.hstack((number_of_nights,total_observing_hours,\n",
    "                            avg_hours_per_night,min_hours_obs,max_hours_obs))\n",
    "\n",
    "time_facts = pd.DataFrame(time_array, index=['Total Number of Nights'\n",
    "                               , 'Total Observing Hours'\n",
    "                               , 'Average Hours per Night'\n",
    "                               , 'Minimum Hours'\n",
    "                               , 'Maximum Hours'])\n",
    "time_facts.columns=['Value']\n",
    "\n",
    "\n",
    "time_facts.style.set_properties(**{'background-color': 'black',\n",
    "                            'color': 'white',\n",
    "                            'border-color': 'white'})"
   ]
  },
  {
   "cell_type": "code",
   "execution_count": 71,
   "metadata": {},
   "outputs": [
    {
     "data": {
      "text/html": [
       "<style  type=\"text/css\" >\n",
       "    #T_471bec6f_6d1c_11e9_9ef9_a0afbd858fbdrow0_col0 {\n",
       "            background-color:  green;\n",
       "            color:  white;\n",
       "            border-color:  white;\n",
       "        }    #T_471bec6f_6d1c_11e9_9ef9_a0afbd858fbdrow1_col0 {\n",
       "            background-color:  green;\n",
       "            color:  white;\n",
       "            border-color:  white;\n",
       "        }</style><table id=\"T_471bec6f_6d1c_11e9_9ef9_a0afbd858fbd\" ><thead>    <tr>        <th class=\"blank level0\" ></th>        <th class=\"col_heading level0 col0\" >Value</th>    </tr></thead><tbody>\n",
       "                <tr>\n",
       "                        <th id=\"T_471bec6f_6d1c_11e9_9ef9_a0afbd858fbdlevel0_row0\" class=\"row_heading level0 row0\" >Total Observation Area</th>\n",
       "                        <td id=\"T_471bec6f_6d1c_11e9_9ef9_a0afbd858fbdrow0_col0\" class=\"data row0 col0\" >48363.3</td>\n",
       "            </tr>\n",
       "            <tr>\n",
       "                        <th id=\"T_471bec6f_6d1c_11e9_9ef9_a0afbd858fbdlevel0_row1\" class=\"row_heading level0 row1\" >Average Observation Area</th>\n",
       "                        <td id=\"T_471bec6f_6d1c_11e9_9ef9_a0afbd858fbdrow1_col0\" class=\"data row1 col0\" >46178.8</td>\n",
       "            </tr>\n",
       "    </tbody></table>"
      ],
      "text/plain": [
       "<pandas.io.formats.style.Styler at 0x7ffb584fa860>"
      ]
     },
     "execution_count": 71,
     "metadata": {},
     "output_type": "execute_result"
    }
   ],
   "source": [
    "#########################################\n",
    "# Area\n",
    "#########################################\n",
    "\n",
    "area_array = np.hstack((total_observation_area,average_observation_area))\n",
    "\n",
    "area_facts = pd.DataFrame(area_array, index=['Total Observation Area'\n",
    "                               , 'Average Observation Area'])\n",
    "area_facts.columns=['Value']\n",
    "\n",
    "\n",
    "\n",
    "area_facts.style.set_properties(**{'background-color': 'green',\n",
    "                            'color': 'white',\n",
    "                            'border-color': 'white'})"
   ]
  },
  {
   "cell_type": "code",
   "execution_count": 72,
   "metadata": {},
   "outputs": [
    {
     "data": {
      "text/html": [
       "<style  type=\"text/css\" >\n",
       "    #T_471bec70_6d1c_11e9_9ef9_a0afbd858fbdrow0_col0 {\n",
       "            background-color:  navy;\n",
       "            color:  white;\n",
       "            border-color:  white;\n",
       "        }    #T_471bec70_6d1c_11e9_9ef9_a0afbd858fbdrow1_col0 {\n",
       "            background-color:  navy;\n",
       "            color:  white;\n",
       "            border-color:  white;\n",
       "        }    #T_471bec70_6d1c_11e9_9ef9_a0afbd858fbdrow2_col0 {\n",
       "            background-color:  navy;\n",
       "            color:  white;\n",
       "            border-color:  white;\n",
       "        }    #T_471bec70_6d1c_11e9_9ef9_a0afbd858fbdrow3_col0 {\n",
       "            background-color:  navy;\n",
       "            color:  white;\n",
       "            border-color:  white;\n",
       "        }</style><table id=\"T_471bec70_6d1c_11e9_9ef9_a0afbd858fbd\" ><thead>    <tr>        <th class=\"blank level0\" ></th>        <th class=\"col_heading level0 col0\" >Value</th>    </tr></thead><tbody>\n",
       "                <tr>\n",
       "                        <th id=\"T_471bec70_6d1c_11e9_9ef9_a0afbd858fbdlevel0_row0\" class=\"row_heading level0 row0\" >Number of Pics</th>\n",
       "                        <td id=\"T_471bec70_6d1c_11e9_9ef9_a0afbd858fbdrow0_col0\" class=\"data row0 col0\" >561</td>\n",
       "            </tr>\n",
       "            <tr>\n",
       "                        <th id=\"T_471bec70_6d1c_11e9_9ef9_a0afbd858fbdlevel0_row1\" class=\"row_heading level0 row1\" >Number of Vids</th>\n",
       "                        <td id=\"T_471bec70_6d1c_11e9_9ef9_a0afbd858fbdrow1_col0\" class=\"data row1 col0\" >1077</td>\n",
       "            </tr>\n",
       "            <tr>\n",
       "                        <th id=\"T_471bec70_6d1c_11e9_9ef9_a0afbd858fbdlevel0_row2\" class=\"row_heading level0 row2\" >Number of Fireballs</th>\n",
       "                        <td id=\"T_471bec70_6d1c_11e9_9ef9_a0afbd858fbdrow2_col0\" class=\"data row2 col0\" >6</td>\n",
       "            </tr>\n",
       "            <tr>\n",
       "                        <th id=\"T_471bec70_6d1c_11e9_9ef9_a0afbd858fbdlevel0_row3\" class=\"row_heading level0 row3\" >Flux</th>\n",
       "                        <td id=\"T_471bec70_6d1c_11e9_9ef9_a0afbd858fbdrow3_col0\" class=\"data row3 col0\" >4.45157e-07</td>\n",
       "            </tr>\n",
       "    </tbody></table>"
      ],
      "text/plain": [
       "<pandas.io.formats.style.Styler at 0x7ffb584fa198>"
      ]
     },
     "execution_count": 72,
     "metadata": {},
     "output_type": "execute_result"
    }
   ],
   "source": [
    "#########################################\n",
    "# Number of Pics/Videos/Fireballs\n",
    "#########################################\n",
    "\n",
    "num_array = np.hstack((number_pics,number_vids,number_fireballs,flux))\n",
    "\n",
    "num_facts = pd.DataFrame(num_array, index=['Number of Pics'\n",
    "                               , 'Number of Vids', 'Number of Fireballs',\n",
    "                                          'Flux'])\n",
    "num_facts.columns=['Value']\n",
    "\n",
    "\n",
    "num_facts.style.set_properties(**{'background-color': 'navy',\n",
    "                            'color': 'white',\n",
    "                            'border-color': 'white'})"
   ]
  },
  {
   "cell_type": "code",
   "execution_count": 75,
   "metadata": {},
   "outputs": [
    {
     "data": {
      "text/html": [
       "<style  type=\"text/css\" >\n",
       "    #T_9228c9fc_6d1c_11e9_9ef9_a0afbd858fbdrow0_col0 {\n",
       "            background-color:  gold;\n",
       "            color:  black;\n",
       "            border-color:  white;\n",
       "        }    #T_9228c9fc_6d1c_11e9_9ef9_a0afbd858fbdrow1_col0 {\n",
       "            background-color:  gold;\n",
       "            color:  black;\n",
       "            border-color:  white;\n",
       "        }    #T_9228c9fc_6d1c_11e9_9ef9_a0afbd858fbdrow2_col0 {\n",
       "            background-color:  gold;\n",
       "            color:  black;\n",
       "            border-color:  white;\n",
       "        }    #T_9228c9fc_6d1c_11e9_9ef9_a0afbd858fbdrow3_col0 {\n",
       "            background-color:  gold;\n",
       "            color:  black;\n",
       "            border-color:  white;\n",
       "        }    #T_9228c9fc_6d1c_11e9_9ef9_a0afbd858fbdrow4_col0 {\n",
       "            background-color:  gold;\n",
       "            color:  black;\n",
       "            border-color:  white;\n",
       "        }    #T_9228c9fc_6d1c_11e9_9ef9_a0afbd858fbdrow5_col0 {\n",
       "            background-color:  gold;\n",
       "            color:  black;\n",
       "            border-color:  white;\n",
       "        }    #T_9228c9fc_6d1c_11e9_9ef9_a0afbd858fbdrow6_col0 {\n",
       "            background-color:  gold;\n",
       "            color:  black;\n",
       "            border-color:  white;\n",
       "        }    #T_9228c9fc_6d1c_11e9_9ef9_a0afbd858fbdrow7_col0 {\n",
       "            background-color:  gold;\n",
       "            color:  black;\n",
       "            border-color:  white;\n",
       "        }    #T_9228c9fc_6d1c_11e9_9ef9_a0afbd858fbdrow8_col0 {\n",
       "            background-color:  gold;\n",
       "            color:  black;\n",
       "            border-color:  white;\n",
       "        }</style><table id=\"T_9228c9fc_6d1c_11e9_9ef9_a0afbd858fbd\" ><thead>    <tr>        <th class=\"blank level0\" ></th>        <th class=\"col_heading level0 col0\" >Value</th>    </tr></thead><tbody>\n",
       "                <tr>\n",
       "                        <th id=\"T_9228c9fc_6d1c_11e9_9ef9_a0afbd858fbdlevel0_row0\" class=\"row_heading level0 row0\" >Star Catalog Rows</th>\n",
       "                        <td id=\"T_9228c9fc_6d1c_11e9_9ef9_a0afbd858fbdrow0_col0\" class=\"data row0 col0\" >387</td>\n",
       "            </tr>\n",
       "            <tr>\n",
       "                        <th id=\"T_9228c9fc_6d1c_11e9_9ef9_a0afbd858fbdlevel0_row1\" class=\"row_heading level0 row1\" >Stars Per Snapshot</th>\n",
       "                        <td id=\"T_9228c9fc_6d1c_11e9_9ef9_a0afbd858fbdrow1_col0\" class=\"data row1 col0\" >1.43866</td>\n",
       "            </tr>\n",
       "            <tr>\n",
       "                        <th id=\"T_9228c9fc_6d1c_11e9_9ef9_a0afbd858fbdlevel0_row2\" class=\"row_heading level0 row2\" >Vids with Object</th>\n",
       "                        <td id=\"T_9228c9fc_6d1c_11e9_9ef9_a0afbd858fbdrow2_col0\" class=\"data row2 col0\" >269</td>\n",
       "            </tr>\n",
       "            <tr>\n",
       "                        <th id=\"T_9228c9fc_6d1c_11e9_9ef9_a0afbd858fbdlevel0_row3\" class=\"row_heading level0 row3\" >Unique Objects</th>\n",
       "                        <td id=\"T_9228c9fc_6d1c_11e9_9ef9_a0afbd858fbdrow3_col0\" class=\"data row3 col0\" >13</td>\n",
       "            </tr>\n",
       "            <tr>\n",
       "                        <th id=\"T_9228c9fc_6d1c_11e9_9ef9_a0afbd858fbdlevel0_row4\" class=\"row_heading level0 row4\" >Unique Star Files</th>\n",
       "                        <td id=\"T_9228c9fc_6d1c_11e9_9ef9_a0afbd858fbdrow4_col0\" class=\"data row4 col0\" >269</td>\n",
       "            </tr>\n",
       "            <tr>\n",
       "                        <th id=\"T_9228c9fc_6d1c_11e9_9ef9_a0afbd858fbdlevel0_row5\" class=\"row_heading level0 row5\" >Dimmest Mag</th>\n",
       "                        <td id=\"T_9228c9fc_6d1c_11e9_9ef9_a0afbd858fbdrow5_col0\" class=\"data row5 col0\" >-1.46</td>\n",
       "            </tr>\n",
       "            <tr>\n",
       "                        <th id=\"T_9228c9fc_6d1c_11e9_9ef9_a0afbd858fbdlevel0_row6\" class=\"row_heading level0 row6\" >Number ratio data points</th>\n",
       "                        <td id=\"T_9228c9fc_6d1c_11e9_9ef9_a0afbd858fbdrow6_col0\" class=\"data row6 col0\" >3279</td>\n",
       "            </tr>\n",
       "            <tr>\n",
       "                        <th id=\"T_9228c9fc_6d1c_11e9_9ef9_a0afbd858fbdlevel0_row7\" class=\"row_heading level0 row7\" >Ratio data points after rotation</th>\n",
       "                        <td id=\"T_9228c9fc_6d1c_11e9_9ef9_a0afbd858fbdrow7_col0\" class=\"data row7 col0\" >233546</td>\n",
       "            </tr>\n",
       "            <tr>\n",
       "                        <th id=\"T_9228c9fc_6d1c_11e9_9ef9_a0afbd858fbdlevel0_row8\" class=\"row_heading level0 row8\" >Number pics&vids</th>\n",
       "                        <td id=\"T_9228c9fc_6d1c_11e9_9ef9_a0afbd858fbdrow8_col0\" class=\"data row8 col0\" >1638</td>\n",
       "            </tr>\n",
       "    </tbody></table>"
      ],
      "text/plain": [
       "<pandas.io.formats.style.Styler at 0x7ffb587e9240>"
      ]
     },
     "execution_count": 75,
     "metadata": {},
     "output_type": "execute_result"
    }
   ],
   "source": [
    "#########################################\n",
    "# Star Catalog Info\n",
    "#########################################\n",
    "\n",
    "star_array = np.hstack((star_catalog_rows,stars_per_snapshot,\n",
    "                      vids_with_object,unique_objects,unique_starfiles,dimmest_object_mag,\n",
    "                      total_comparisons,number_after_rot,len(onlyvids)+len(onlypics)))\n",
    "\n",
    "star_facts = pd.DataFrame(star_array, index=['Star Catalog Rows'\n",
    "                               , 'Stars Per Snapshot', 'Vids with Object',\n",
    "                                          'Unique Objects','Unique Star Files','Dimmest Mag',\n",
    "                                          'Number ratio data points',\n",
    "                                          'Ratio data points after rotation',\n",
    "                                            'Number pics&vids'])\n",
    "star_facts.columns=['Value']\n",
    "\n",
    "star_facts.style.set_properties(**{'background-color': 'gold',\n",
    "                            'color': 'black',\n",
    "                            'border-color': 'white'})"
   ]
  },
  {
   "cell_type": "code",
   "execution_count": 78,
   "metadata": {},
   "outputs": [
    {
     "data": {
      "text/html": [
       "<div>\n",
       "<style scoped>\n",
       "    .dataframe tbody tr th:only-of-type {\n",
       "        vertical-align: middle;\n",
       "    }\n",
       "\n",
       "    .dataframe tbody tr th {\n",
       "        vertical-align: top;\n",
       "    }\n",
       "\n",
       "    .dataframe thead th {\n",
       "        text-align: right;\n",
       "    }\n",
       "</style>\n",
       "<table border=\"1\" class=\"dataframe\">\n",
       "  <thead>\n",
       "    <tr style=\"text-align: right;\">\n",
       "      <th></th>\n",
       "      <th>Vid_name</th>\n",
       "      <th>Datetime</th>\n",
       "      <th>Object</th>\n",
       "      <th>RA (deg)</th>\n",
       "      <th>Dec (deg)</th>\n",
       "      <th>Vmag</th>\n",
       "      <th>Alt (rad)</th>\n",
       "      <th>Az (rad)</th>\n",
       "      <th>xpos</th>\n",
       "      <th>ypos</th>\n",
       "    </tr>\n",
       "  </thead>\n",
       "  <tbody>\n",
       "    <tr>\n",
       "      <th>0</th>\n",
       "      <td>20181119_100042_Snap.png</td>\n",
       "      <td>2018-11-19 10:00:42</td>\n",
       "      <td>Sirius</td>\n",
       "      <td>101.287155</td>\n",
       "      <td>-16.716116</td>\n",
       "      <td>-1.46</td>\n",
       "      <td>-0.196567</td>\n",
       "      <td>4.494604</td>\n",
       "      <td>155.696976</td>\n",
       "      <td>462.606049</td>\n",
       "    </tr>\n",
       "    <tr>\n",
       "      <th>0</th>\n",
       "      <td>20181119_090041_Snap.png</td>\n",
       "      <td>2018-11-19 09:00:41</td>\n",
       "      <td>Sirius</td>\n",
       "      <td>101.287155</td>\n",
       "      <td>-16.716116</td>\n",
       "      <td>-1.46</td>\n",
       "      <td>-0.019625</td>\n",
       "      <td>4.314712</td>\n",
       "      <td>74.960785</td>\n",
       "      <td>416.509796</td>\n",
       "    </tr>\n",
       "  </tbody>\n",
       "</table>\n",
       "</div>"
      ],
      "text/plain": [
       "                   Vid_name             Datetime  Object    RA (deg)  \\\n",
       "0  20181119_100042_Snap.png  2018-11-19 10:00:42  Sirius  101.287155   \n",
       "0  20181119_090041_Snap.png  2018-11-19 09:00:41  Sirius  101.287155   \n",
       "\n",
       "   Dec (deg)  Vmag  Alt (rad)  Az (rad)        xpos        ypos  \n",
       "0 -16.716116 -1.46  -0.196567  4.494604  155.696976  462.606049  \n",
       "0 -16.716116 -1.46  -0.019625  4.314712   74.960785  416.509796  "
      ]
     },
     "execution_count": 78,
     "metadata": {},
     "output_type": "execute_result"
    }
   ],
   "source": [
    "star_catalog.loc[star_catalog['Vmag']==-1.46]"
   ]
  },
  {
   "cell_type": "code",
   "execution_count": null,
   "metadata": {
    "collapsed": true
   },
   "outputs": [],
   "source": []
  },
  {
   "cell_type": "code",
   "execution_count": 21,
   "metadata": {},
   "outputs": [
    {
     "data": {
      "text/html": [
       "<table style=\"display:center\" border=\"1\" class=\"dataframe\">\n",
       "  <thead>\n",
       "    <tr style=\"text-align: right;\">\n",
       "      <th></th>\n",
       "      <th>Value</th>\n",
       "    </tr>\n",
       "  </thead>\n",
       "  <tbody>\n",
       "    <tr>\n",
       "      <th>Total Observation Area</th>\n",
       "      <td>48363.327836</td>\n",
       "    </tr>\n",
       "    <tr>\n",
       "      <th>Average Observation Area</th>\n",
       "      <td>46178.809432</td>\n",
       "    </tr>\n",
       "  </tbody>\n",
       "</table style=\"display:center\"><table style=\"display:center\" border=\"1\" class=\"dataframe\">\n",
       "  <thead>\n",
       "    <tr style=\"text-align: right;\">\n",
       "      <th></th>\n",
       "      <th>Value</th>\n",
       "    </tr>\n",
       "  </thead>\n",
       "  <tbody>\n",
       "    <tr>\n",
       "      <th>Total Number of Nights</th>\n",
       "      <td>34.000000</td>\n",
       "    </tr>\n",
       "    <tr>\n",
       "      <th>Total Observing Hours</th>\n",
       "      <td>291.873889</td>\n",
       "    </tr>\n",
       "    <tr>\n",
       "      <th>Average Hours per Night</th>\n",
       "      <td>8.584526</td>\n",
       "    </tr>\n",
       "    <tr>\n",
       "      <th>Minimum Hours</th>\n",
       "      <td>6.999167</td>\n",
       "    </tr>\n",
       "    <tr>\n",
       "      <th>Maximum Hours</th>\n",
       "      <td>11.000000</td>\n",
       "    </tr>\n",
       "  </tbody>\n",
       "</table style=\"display:center\"><table style=\"display:center\" border=\"1\" class=\"dataframe\">\n",
       "  <thead>\n",
       "    <tr style=\"text-align: right;\">\n",
       "      <th></th>\n",
       "      <th>Value</th>\n",
       "    </tr>\n",
       "  </thead>\n",
       "  <tbody>\n",
       "    <tr>\n",
       "      <th>Number of Pics</th>\n",
       "      <td>5.610000e+02</td>\n",
       "    </tr>\n",
       "    <tr>\n",
       "      <th>Number of Vids</th>\n",
       "      <td>1.077000e+03</td>\n",
       "    </tr>\n",
       "    <tr>\n",
       "      <th>Number of Fireballs</th>\n",
       "      <td>6.000000e+00</td>\n",
       "    </tr>\n",
       "    <tr>\n",
       "      <th>Flux</th>\n",
       "      <td>4.451571e-07</td>\n",
       "    </tr>\n",
       "  </tbody>\n",
       "</table style=\"display:center\"><table style=\"display:center\" border=\"1\" class=\"dataframe\">\n",
       "  <thead>\n",
       "    <tr style=\"text-align: right;\">\n",
       "      <th></th>\n",
       "      <th>Value</th>\n",
       "    </tr>\n",
       "  </thead>\n",
       "  <tbody>\n",
       "    <tr>\n",
       "      <th>Star Catalog Rows</th>\n",
       "      <td>387.000000</td>\n",
       "    </tr>\n",
       "    <tr>\n",
       "      <th>Stars Per Snapshot</th>\n",
       "      <td>1.438662</td>\n",
       "    </tr>\n",
       "    <tr>\n",
       "      <th>Vids with Object</th>\n",
       "      <td>269.000000</td>\n",
       "    </tr>\n",
       "    <tr>\n",
       "      <th>Unique Objects</th>\n",
       "      <td>13.000000</td>\n",
       "    </tr>\n",
       "    <tr>\n",
       "      <th>Dimmest Mag</th>\n",
       "      <td>-1.460000</td>\n",
       "    </tr>\n",
       "    <tr>\n",
       "      <th>Number ratio data points</th>\n",
       "      <td>3279.000000</td>\n",
       "    </tr>\n",
       "    <tr>\n",
       "      <th>Ratio data points after rotation</th>\n",
       "      <td>233546.000000</td>\n",
       "    </tr>\n",
       "  </tbody>\n",
       "</table style=\"display:center\">"
      ]
     },
     "metadata": {},
     "output_type": "display_data"
    }
   ],
   "source": [
    "from IPython.display import display_html\n",
    "def display_side_by_side(*args):\n",
    "    html_str=''\n",
    "    for df in args:\n",
    "        html_str+=df.to_html()\n",
    "    display_html(html_str.replace('table','table style=\"display:center\"'),raw=True)\n",
    "    \n",
    "display_side_by_side(area_facts,time_facts,num_facts,star_facts)    "
   ]
  },
  {
   "cell_type": "code",
   "execution_count": null,
   "metadata": {
    "collapsed": true
   },
   "outputs": [],
   "source": []
  },
  {
   "cell_type": "code",
   "execution_count": 68,
   "metadata": {},
   "outputs": [
    {
     "data": {
      "image/png": "[encoded data removed]",
      "text/plain": [
       "<Figure size 432x288 with 1 Axes>"
      ]
     },
     "metadata": {},
     "output_type": "display_data"
    },
    {
     "name": "stdout",
     "output_type": "stream",
     "text": [
      "793  videos pre-November\n",
      "284  videos post-November\n"
     ]
    }
   ],
   "source": [
    "list1 = [onlyvids[i][4:6] for i in np.arange(0,len(onlyvids))]\n",
    "list2 = np.array(list1,dtype='float')\n",
    "\n",
    "plt.hist(list2,12)\n",
    "plt.show()\n",
    "\n",
    "cond = (list2 == 8)|(list2 == 9)|(list2 == 10)\n",
    "print(str(sum(cond))+'  videos pre-November')\n",
    "print(str(sum(np.invert(cond)))+'  videos post-November')"
   ]
  },
  {
   "cell_type": "code",
   "execution_count": null,
   "metadata": {
    "collapsed": true
   },
   "outputs": [],
   "source": []
  },
  {
   "cell_type": "code",
   "execution_count": null,
   "metadata": {
    "collapsed": true
   },
   "outputs": [],
   "source": []
  },
  {
   "cell_type": "code",
   "execution_count": null,
   "metadata": {
    "collapsed": true
   },
   "outputs": [],
   "source": []
  },
  {
   "cell_type": "code",
   "execution_count": null,
   "metadata": {
    "collapsed": true
   },
   "outputs": [],
   "source": []
  },
  {
   "cell_type": "code",
   "execution_count": null,
   "metadata": {
    "collapsed": true
   },
   "outputs": [],
   "source": []
  },
  {
   "cell_type": "code",
   "execution_count": null,
   "metadata": {
    "collapsed": true
   },
   "outputs": [],
   "source": []
  },
  {
   "cell_type": "code",
   "execution_count": null,
   "metadata": {
    "collapsed": true
   },
   "outputs": [],
   "source": []
  },
  {
   "cell_type": "code",
   "execution_count": null,
   "metadata": {
    "collapsed": true
   },
   "outputs": [],
   "source": []
  },
  {
   "cell_type": "code",
   "execution_count": null,
   "metadata": {
    "collapsed": true
   },
   "outputs": [],
   "source": []
  },
  {
   "cell_type": "code",
   "execution_count": null,
   "metadata": {
    "collapsed": true
   },
   "outputs": [],
   "source": []
  },
  {
   "cell_type": "code",
   "execution_count": null,
   "metadata": {
    "collapsed": true
   },
   "outputs": [],
   "source": []
  },
  {
   "cell_type": "code",
   "execution_count": null,
   "metadata": {
    "collapsed": true
   },
   "outputs": [],
   "source": []
  },
  {
   "cell_type": "code",
   "execution_count": null,
   "metadata": {
    "collapsed": true
   },
   "outputs": [],
   "source": []
  },
  {
   "cell_type": "code",
   "execution_count": null,
   "metadata": {
    "collapsed": true
   },
   "outputs": [],
   "source": []
  },
  {
   "cell_type": "code",
   "execution_count": null,
   "metadata": {
    "collapsed": true
   },
   "outputs": [],
   "source": []
  },
  {
   "cell_type": "code",
   "execution_count": 22,
   "metadata": {},
   "outputs": [
    {
     "data": {
      "text/html": [
       "<div>\n",
       "<style scoped>\n",
       "    .dataframe tbody tr th:only-of-type {\n",
       "        vertical-align: middle;\n",
       "    }\n",
       "\n",
       "    .dataframe tbody tr th {\n",
       "        vertical-align: top;\n",
       "    }\n",
       "\n",
       "    .dataframe thead th {\n",
       "        text-align: right;\n",
       "    }\n",
       "</style>\n",
       "<table border=\"1\" class=\"dataframe\">\n",
       "  <thead>\n",
       "    <tr style=\"text-align: right;\">\n",
       "      <th></th>\n",
       "      <th>Code</th>\n",
       "      <th>Filename</th>\n",
       "      <th>Real_flag</th>\n",
       "    </tr>\n",
       "  </thead>\n",
       "  <tbody>\n",
       "    <tr>\n",
       "      <th>98</th>\n",
       "      <td>5MI</td>\n",
       "      <td>20181119_104615.avi</td>\n",
       "      <td>1.0</td>\n",
       "    </tr>\n",
       "    <tr>\n",
       "      <th>214</th>\n",
       "      <td>0JY</td>\n",
       "      <td>20181019_115534.avi</td>\n",
       "      <td>1.0</td>\n",
       "    </tr>\n",
       "    <tr>\n",
       "      <th>246</th>\n",
       "      <td>5MJ</td>\n",
       "      <td>20181119_124201.avi</td>\n",
       "      <td>1.0</td>\n",
       "    </tr>\n",
       "    <tr>\n",
       "      <th>265</th>\n",
       "      <td>5MF</td>\n",
       "      <td>20181118_102202.avi</td>\n",
       "      <td>1.0</td>\n",
       "    </tr>\n",
       "    <tr>\n",
       "      <th>908</th>\n",
       "      <td>0EV</td>\n",
       "      <td>20180829_094240.avi</td>\n",
       "      <td>1.0</td>\n",
       "    </tr>\n",
       "    <tr>\n",
       "      <th>909</th>\n",
       "      <td>0EW</td>\n",
       "      <td>20180829_110118.avi</td>\n",
       "      <td>1.0</td>\n",
       "    </tr>\n",
       "  </tbody>\n",
       "</table>\n",
       "</div>"
      ],
      "text/plain": [
       "    Code             Filename  Real_flag\n",
       "98   5MI  20181119_104615.avi        1.0\n",
       "214  0JY  20181019_115534.avi        1.0\n",
       "246  5MJ  20181119_124201.avi        1.0\n",
       "265  5MF  20181118_102202.avi        1.0\n",
       "908  0EV  20180829_094240.avi        1.0\n",
       "909  0EW  20180829_110118.avi        1.0"
      ]
     },
     "execution_count": 22,
     "metadata": {},
     "output_type": "execute_result"
    }
   ],
   "source": [
    "analyzed_vids.loc[analyzed_vids['Real_flag']==1.0]"
   ]
  },
  {
   "cell_type": "code",
   "execution_count": null,
   "metadata": {
    "collapsed": true
   },
   "outputs": [],
   "source": []
  }
 ],
 "metadata": {
  "kernelspec": {
   "display_name": "Python 3",
   "language": "python",
   "name": "python3"
  },
  "language_info": {
   "codemirror_mode": {
    "name": "ipython",
    "version": 3
   },
   "file_extension": ".py",
   "mimetype": "text/x-python",
   "name": "python",
   "nbconvert_exporter": "python",
   "pygments_lexer": "ipython3",
   "version": "3.6.1"
  }
 },
 "nbformat": 4,
 "nbformat_minor": 2
}
